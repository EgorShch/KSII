{
  "nbformat": 4,
  "nbformat_minor": 0,
  "metadata": {
    "colab": {
      "provenance": []
    },
    "kernelspec": {
      "name": "python3",
      "display_name": "Python 3"
    },
    "language_info": {
      "name": "python"
    }
  },
  "cells": [
    {
      "cell_type": "code",
      "execution_count": 14,
      "metadata": {
        "id": "LSzSQ4-GQ7_6"
      },
      "outputs": [],
      "source": [
        "import numpy as np\n",
        "\n",
        "# Сигмоида и её производная\n",
        "def sigmoid(x):\n",
        "    return 1 / (1 + np.exp(-x))\n",
        "\n",
        "def sigmoid_derivative(x):\n",
        "    return x * (1 - x)"
      ]
    },
    {
      "cell_type": "code",
      "source": [
        "# Входные данные: [ночная температура, уровень влажности]\n",
        "X = np.array([[10, 0.8],   # Ночью 10°C, влажность 80%\n",
        "              [15, 0.6],   # Ночью 15°C, влажность 60%\n",
        "              [20, 0.4],   # Ночью 20°C, влажность 40%\n",
        "              [25, 0.2]])  # Ночью 25°C, влажность 20%\n",
        "\n",
        "# Выходные данные: дневная температура\n",
        "y = np.array([[15],   # 15°C\n",
        "              [20],   # 20°C\n",
        "              [25],   # 25°C\n",
        "              [30]])  # 30°C\n",
        "\n",
        "# Нормализация данных (от 0 до 1)\n",
        "X[:, 0] = X[:, 0] / np.max(X[:, 0])\n",
        "y = y / 30\n",
        "\n",
        "# Размеры слоев\n",
        "input_layer_size = 2\n",
        "hidden_layer_size = 4\n",
        "output_layer_size = 1\n",
        "\n",
        "# Скорость обучения и количество эпох\n",
        "learning_rate = 0.1\n",
        "epochs = 10000\n",
        "\n",
        "# Инициализация весов\n",
        "np.random.seed(42)\n",
        "weights_input_hidden = np.random.rand(input_layer_size, hidden_layer_size)\n",
        "weights_hidden_output = np.random.rand(hidden_layer_size, output_layer_size)\n",
        "\n",
        "# Обучение сети\n",
        "for epoch in range(epochs):\n",
        "    # Прямой проход\n",
        "    hidden_layer_input = np.dot(X, weights_input_hidden)\n",
        "    hidden_layer_output = sigmoid(hidden_layer_input)\n",
        "    output_layer_input = np.dot(hidden_layer_output, weights_hidden_output)\n",
        "    predicted_output = sigmoid(output_layer_input)\n",
        "\n",
        "    # Ошибка\n",
        "    error = y - predicted_output\n",
        "\n",
        "    # Обратное распространение\n",
        "    d_predicted_output = error * sigmoid_derivative(predicted_output)\n",
        "    weights_hidden_output += np.dot(hidden_layer_output.T, d_predicted_output) * learning_rate\n",
        "\n",
        "    hidden_layer_error = np.dot(d_predicted_output, weights_hidden_output.T)\n",
        "    d_hidden_layer_output = hidden_layer_error * sigmoid_derivative(hidden_layer_output)\n",
        "    weights_input_hidden += np.dot(X.T, d_hidden_layer_output) * learning_rate\n",
        "\n",
        "# Де-нормализация предсказаний\n",
        "predicted_output = predicted_output * 30\n",
        "\n",
        "# Результаты\n",
        "print(\"Обучение завершено.\")\n",
        "print(\"Прогнозируемые дневные температуры:\")\n",
        "for i, pred in enumerate(predicted_output):\n",
        "    print(f\"Input (ночь={X[i][0] * 25}°C, влажность={X[i][1] * 100}%): \"\n",
        "          f\"Predicted дневная температура = {pred[0]:.2f}°C, \"\n",
        "          f\"Заданные значения y = {y[i][0] * 30}°C\")"
      ],
      "metadata": {
        "colab": {
          "base_uri": "https://localhost:8080/"
        },
        "id": "h-cNremRhnov",
        "outputId": "53673e18-3a18-406b-cbf2-06a477ec6307"
      },
      "execution_count": 55,
      "outputs": [
        {
          "output_type": "stream",
          "name": "stdout",
          "text": [
            "Обучение завершено.\n",
            "Прогнозируемые дневные температуры:\n",
            "Input (ночь=10.0°C, влажность=80.0%): Predicted дневная температура = 14.80°C, Заданные значения y = 15.0°C\n",
            "Input (ночь=15.0°C, влажность=60.0%): Predicted дневная температура = 20.18°C, Заданные значения y = 20.0°C\n",
            "Input (ночь=20.0°C, влажность=40.0%): Predicted дневная температура = 25.71°C, Заданные значения y = 25.0°C\n",
            "Input (ночь=25.0°C, влажность=20.0%): Predicted дневная температура = 28.36°C, Заданные значения y = 30.0°C\n"
          ]
        }
      ]
    },
    {
      "cell_type": "code",
      "source": [
        "# Функция тестирования сети\n",
        "def test_temperature_model(test_input):\n",
        "    maxT = np.max(test_input[:,0])\n",
        "    print(maxT)\n",
        "    test_input[:, 0] = test_input[:, 0] / maxT  # Нормализация\n",
        "    hidden_layer_input = np.dot(test_input, weights_input_hidden)\n",
        "    hidden_layer_output = sigmoid(hidden_layer_input)\n",
        "    output_layer_input = np.dot(hidden_layer_output, weights_hidden_output)\n",
        "    predicted_output = sigmoid(output_layer_input)\n",
        "    test_input[:, 0] = test_input[:, 0] * maxT  # Нормализация\n",
        "    return predicted_output * 30  # Де-нормализация\n",
        "print(f\"Weights input hidden = {weights_input_hidden}\\nWeight hidden output = {weights_hidden_output}\")"
      ],
      "metadata": {
        "colab": {
          "base_uri": "https://localhost:8080/"
        },
        "id": "3ddwzSlPhnwl",
        "outputId": "a1059f57-b347-4091-df00-2c6e8ce89286"
      },
      "execution_count": 56,
      "outputs": [
        {
          "output_type": "stream",
          "name": "stdout",
          "text": [
            "Weights input hidden = [[ 1.11283515  1.7253905   0.15993723  0.96342157]\n",
            " [-1.43153061 -3.44574597  0.92455952  0.23435575]]\n",
            "Weight hidden output = [[ 1.39660201]\n",
            " [ 3.60094104]\n",
            " [-1.19926793]\n",
            " [-0.10342471]]\n"
          ]
        }
      ]
    },
    {
      "cell_type": "code",
      "source": [
        "# Тестирование\n",
        "new_data = np.array([[18, 1], [22, 0.3], [5, 0.2], [12, 0.3], [22, 0.7]])  # Новые данные\n",
        "predictions = test_temperature_model(new_data)\n",
        "for i, pred in enumerate(predictions):\n",
        "    print(f\"Test Input (ночь = {new_data[i][0]}°C, влажность = {new_data[i][1] * 100:.0f}%): \"\n",
        "          f\"Predicted дневная температура = {pred[0]:.2f}°C\")"
      ],
      "metadata": {
        "colab": {
          "base_uri": "https://localhost:8080/"
        },
        "id": "IJb6DDnqhn32",
        "outputId": "d613165a-cbc9-4115-e44d-1402cdd2b3f7"
      },
      "execution_count": 57,
      "outputs": [
        {
          "output_type": "stream",
          "name": "stdout",
          "text": [
            "22.0\n",
            "Test Input (ночь = 18.0°C, влажность = 100%): Predicted дневная температура = 14.78°C\n",
            "Test Input (ночь = 22.0°C, влажность = 30%): Predicted дневная температура = 27.77°C\n",
            "Test Input (ночь = 5.0°C, влажность = 20%): Predicted дневная температура = 24.52°C\n",
            "Test Input (ночь = 12.0°C, влажность = 30%): Predicted дневная температура = 25.38°C\n",
            "Test Input (ночь = 22.0°C, влажность = 70%): Predicted дневная температура = 22.14°C\n"
          ]
        }
      ]
    }
  ]
}